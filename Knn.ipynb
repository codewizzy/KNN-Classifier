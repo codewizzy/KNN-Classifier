{
  "nbformat": 4,
  "nbformat_minor": 0,
  "metadata": {
    "colab": {
      "name": "Knn.ipynb",
      "provenance": []
    },
    "kernelspec": {
      "name": "python3",
      "display_name": "Python 3"
    }
  },
  "cells": [
    {
      "cell_type": "code",
      "metadata": {
        "colab": {
          "base_uri": "https://localhost:8080/"
        },
        "id": "Ni6Dqd_tcFaw",
        "outputId": "425abcc7-de07-404a-896b-5dca27a878ba"
      },
      "source": [
        "from google.colab import drive\r\n",
        "drive.mount('/content/drive')"
      ],
      "execution_count": 66,
      "outputs": [
        {
          "output_type": "stream",
          "text": [
            "Drive already mounted at /content/drive; to attempt to forcibly remount, call drive.mount(\"/content/drive\", force_remount=True).\n"
          ],
          "name": "stdout"
        }
      ]
    },
    {
      "cell_type": "code",
      "metadata": {
        "id": "4Uc0LTVrcdyG"
      },
      "source": [
        "import pandas\r\n",
        "from math import inf\r\n",
        "\r\n",
        "k =5 \r\n",
        "\r\n",
        "df=pandas.read_excel('/content/drive/MyDrive/data_sheet.xlsx')\r\n",
        "df"
      ],
      "execution_count": null,
      "outputs": []
    },
    {
      "cell_type": "code",
      "metadata": {
        "id": "-r4i8sutd1Oh"
      },
      "source": [
        "# The distance function used here is similarity function\r\n",
        "#Similarity(A,B)=sum from 1 to 4 (wi*∂(ai ,bi))\r\n",
        "#where ∂(ai ,bi) is 1 if ai equals bi and 0 otherwise. ai and bi are either age, income,\r\n",
        "#student or credit_rating. Weights are all 1 except for income it is 2. \r\n",
        "# Reference for such similarity measure is taken from  https://webdocs.cs.ualberta.ca/~zaiane/courses/cmput695/F07/exercises/Exercises695Clas-solution.pdf"
      ],
      "execution_count": 68,
      "outputs": []
    },
    {
      "cell_type": "code",
      "metadata": {
        "id": "FFEQOVzYeV24"
      },
      "source": [
        "x = ('<=30','Medium', 'Yes', 'Fair')"
      ],
      "execution_count": 69,
      "outputs": []
    },
    {
      "cell_type": "code",
      "metadata": {
        "colab": {
          "base_uri": "https://localhost:8080/"
        },
        "id": "KrTBglP_fL1v",
        "outputId": "7472c867-80a5-4aff-a1a7-1c8f84c7503a"
      },
      "source": [
        "pred = []\r\n",
        "\r\n",
        "features = [i for i in df.columns if i!='Class : buys_computer' and i!='RID' ]\r\n",
        "\r\n",
        "print(features)\r\n",
        "# print(df.iloc[0]['Class : buys_computer'])\r\n",
        "\r\n",
        "\r\n",
        "for i in range(len(df)):\r\n",
        "  distance = 0\r\n",
        "  for index , feat in enumerate(features):\r\n",
        "     weight = 1\r\n",
        "     if(feat=='Income'):\r\n",
        "       weight = 2\r\n",
        "     delta = 0\r\n",
        "     s1 = df.iloc[i][feat];\r\n",
        "     s2 = x[index]\r\n",
        "    \r\n",
        "     if (s1==s2):\r\n",
        "       delta = 1\r\n",
        "     distance += (weight *delta)\r\n",
        "  distance=distance/4\r\n",
        "  pred.append((distance,df.iloc[i]['Class : buys_computer']))\r\n",
        "print(pred)\r\n"
      ],
      "execution_count": 70,
      "outputs": [
        {
          "output_type": "stream",
          "text": [
            "['Age', 'Income', 'Student', 'Credit_rating']\n",
            "[(0.5, 'No'), (0.25, 'No'), (0.25, 'Yes'), (0.75, 'Yes'), (0.5, 'Yes'), (0.25, 'No'), (0.25, 'Yes'), (1.0, 'No'), (0.75, 'Yes'), (1.0, 'Yes'), (1.0, 'Yes'), (0.5, 'Yes'), (0.5, 'Yes'), (0.5, 'No')]\n"
          ],
          "name": "stdout"
        }
      ]
    },
    {
      "cell_type": "code",
      "metadata": {
        "colab": {
          "base_uri": "https://localhost:8080/"
        },
        "id": "UFaay8ZNpe04",
        "outputId": "195a5656-fe0c-4a9d-9d2e-a45e1018d255"
      },
      "source": [
        "tup = sorted(pred, key = lambda x: x[0],reverse = True)\r\n",
        "print(tup)"
      ],
      "execution_count": 71,
      "outputs": [
        {
          "output_type": "stream",
          "text": [
            "[(1.0, 'No'), (1.0, 'Yes'), (1.0, 'Yes'), (0.75, 'Yes'), (0.75, 'Yes'), (0.5, 'No'), (0.5, 'Yes'), (0.5, 'Yes'), (0.5, 'Yes'), (0.5, 'No'), (0.25, 'No'), (0.25, 'Yes'), (0.25, 'No'), (0.25, 'Yes')]\n"
          ],
          "name": "stdout"
        }
      ]
    },
    {
      "cell_type": "code",
      "metadata": {
        "colab": {
          "base_uri": "https://localhost:8080/"
        },
        "id": "1kGhIHeQqgDx",
        "outputId": "9f94401b-def8-4d56-8d7a-bc9d5bc1db95"
      },
      "source": [
        "classes = list(set(df['Class : buys_computer']))\r\n",
        "print(classes)"
      ],
      "execution_count": 72,
      "outputs": [
        {
          "output_type": "stream",
          "text": [
            "['No', 'Yes']\n"
          ],
          "name": "stdout"
        }
      ]
    },
    {
      "cell_type": "code",
      "metadata": {
        "colab": {
          "base_uri": "https://localhost:8080/"
        },
        "id": "N5uzoHnFqs_y",
        "outputId": "0b731345-b2e7-45dc-d584-ba88ac0c62cb"
      },
      "source": [
        "d = {}\r\n",
        "for i in range(k):\r\n",
        "  d[tup[i][1]]=d.get(tup[i][1],0)+1\r\n",
        "\r\n",
        "d =  sorted(d.items(), key = lambda x: x[0],reverse = True)\r\n",
        "print('The class label associated with given list x = ',list(x),' is : ',d[0][0])"
      ],
      "execution_count": 73,
      "outputs": [
        {
          "output_type": "stream",
          "text": [
            "The class label associated with given list x =  ['<=30', 'Medium', 'Yes', 'Fair']  is :  Yes\n"
          ],
          "name": "stdout"
        }
      ]
    }
  ]
}